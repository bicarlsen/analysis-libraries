{
 "cells": [
  {
   "cell_type": "markdown",
   "metadata": {},
   "source": [
    "# EC Lab Analysis"
   ]
  },
  {
   "cell_type": "markdown",
   "metadata": {},
   "source": [
    "## Imports"
   ]
  },
  {
   "cell_type": "code",
   "execution_count": 3,
   "metadata": {},
   "outputs": [],
   "source": [
    "import numpy as np\n",
    "import pandas as pd\n",
    "\n",
    "import matplotlib as mpl\n",
    "import matplotlib.pyplot as plt\n",
    "\n",
    "from importlib import reload\n",
    "import standard_functions as std"
   ]
  },
  {
   "cell_type": "code",
   "execution_count": null,
   "metadata": {},
   "outputs": [],
   "source": [
    "reload( std )"
   ]
  },
  {
   "cell_type": "markdown",
   "metadata": {},
   "source": [
    "# Analysis"
   ]
  },
  {
   "cell_type": "code",
   "execution_count": null,
   "metadata": {},
   "outputs": [],
   "source": [
    "def get_rest_times( df, index = 'voltage', threshold = 0 ):\n",
    "    \"\"\"\n",
    "    Gets the amount of time \n",
    "    :param df: The Pandas DataFrame containing the data\n",
    "    :param index: The column name to \n",
    "    \"\"\""
   ]
  },
  {
   "cell_type": "code",
   "execution_count": null,
   "metadata": {},
   "outputs": [],
   "source": [
    "def plot_measurement( ax, data, name ):\n",
    "    # remove extra levels\n",
    "    levels = len( data.columns.levels )\n",
    "    if levels > 1:\n",
    "        data.columns = data.columns.droplevel( list( range( levels - 1 ) ) )\n",
    "        \n",
    "    ax.scatter( x = data.index.values, y = data.voltage )\n",
    "    ax.set_title( name, fontsize = 10 )\n",
    "    ax.set_xlabel( '' )\n",
    "\n",
    "\n",
    "def plot_measurement_density( ax, data, name ):\n",
    "    \"\"\"\n",
    "    Plot measurement density.\n",
    "    \"\"\"\n",
    "    if 'metric' in data.columns.names:\n",
    "        data = data.xs( 'voltage', level = 'metrics', axis = 1 )\n",
    "    \n",
    "    data.plot.hist( ax = ax, legend = False, logy = True )\n",
    "    ax.set_ylim( bottom = 1, top = 1e6 )\n",
    "    ax.set_title( name, fontsize = 10 )\n",
    "    ax.set_xlabel( '' )"
   ]
  },
  {
   "cell_type": "code",
   "execution_count": null,
   "metadata": {},
   "outputs": [],
   "source": []
  }
 ],
 "metadata": {
  "kernelspec": {
   "display_name": "Python 3",
   "language": "python",
   "name": "python3"
  },
  "language_info": {
   "codemirror_mode": {
    "name": "ipython",
    "version": 3
   },
   "file_extension": ".py",
   "mimetype": "text/x-python",
   "name": "python",
   "nbconvert_exporter": "python",
   "pygments_lexer": "ipython3",
   "version": "3.7.3"
  }
 },
 "nbformat": 4,
 "nbformat_minor": 2
}
