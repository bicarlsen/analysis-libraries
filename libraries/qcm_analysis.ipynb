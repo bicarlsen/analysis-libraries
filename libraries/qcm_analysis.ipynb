{
 "cells": [
  {
   "cell_type": "markdown",
   "metadata": {},
   "source": [
    "# QCM Analysis"
   ]
  },
  {
   "cell_type": "markdown",
   "metadata": {},
   "source": [
    "## Imports"
   ]
  },
  {
   "cell_type": "code",
   "execution_count": 1,
   "metadata": {},
   "outputs": [],
   "source": [
    "import numpy as np\n",
    "import pandas as pd\n",
    "import logging\n",
    "\n",
    "import matplotlib as mpl\n",
    "import matplotlib.pyplot as plt\n",
    "\n",
    "from importlib import reload\n",
    "import standard_functions as std"
   ]
  },
  {
   "cell_type": "code",
   "execution_count": 2,
   "metadata": {},
   "outputs": [
    {
     "data": {
      "text/plain": [
       "<module 'standard_functions' from '/home/brian/Dropbox/epfl/research/analysis-libraries/standard_functions.py'>"
      ]
     },
     "execution_count": 2,
     "metadata": {},
     "output_type": "execute_result"
    }
   ],
   "source": [
    "reload( std )"
   ]
  },
  {
   "cell_type": "markdown",
   "metadata": {},
   "source": [
    "# Analysis"
   ]
  },
  {
   "cell_type": "code",
   "execution_count": 29,
   "metadata": {},
   "outputs": [],
   "source": [
    "def sauerbrey( freq, f0, density = 2.648, shear = 2.947e11 ):\n",
    "    \"\"\"\n",
    "    The Sauerbrey equation, solved for mass change per unit area.\n",
    "    The realtive change in frequency should be less than 5%,\n",
    "    otherwise use Z-matching.\n",
    "    \n",
    "    :param freq: Measured frequency in Hertz.\n",
    "    :param f0: Fundamental frequency in Hertz.\n",
    "    :param density: Density of sensor substrate in g/cm^3. [Default: Quartz (2.648)]\n",
    "    :param shear: Shear modulus of sensor substrate in g/( cm* s ). [Default: Quartz (2.947 e11) ]  \n",
    "    \"\"\"\n",
    "    # check if larger than 5% change\n",
    "    delta = np.abs( ( freq - f0 )/ f0 )\n",
    "    if delta.max() > 0.05:\n",
    "        logging.warning( 'Frequency change is large than 5%. Consider using Z-match method instead.' )\n",
    "    \n",
    "    coeff = np.sqrt( density* shear )/ ( 2* np.square( f0 ) )\n",
    "    m_delta = -coeff* ( freq - f0 )\n",
    "    \n",
    "    return m_delta\n",
    "    \n",
    "    \n",
    "def z_match( \n",
    "    freq, \n",
    "    f0, \n",
    "    film_density, \n",
    "    film_shear,\n",
    "    freq_constant = 1.668e13,\n",
    "    sub_density = 2.648,\n",
    "    sub_shear = 2.974e11\n",
    "):\n",
    "    \"\"\"\n",
    "    The Z-match equation.\n",
    "    Used when relative frequency change is larger than 5%.\n",
    "    \n",
    "    :param freq: Frequency of the loaded sensor in Hertz.\n",
    "    :param f0: Frequency of the unloaded sensor in hertz.\n",
    "    :param film_density: Density of the film in g/cm^3.\n",
    "    :param film_shear: Shear modulus of the film in g/( cm* s ).\n",
    "    :param freq_constant: Frequency constant of the sensor in Hz* Angstrom. [Default: Quartz (1.66 e13)]\n",
    "    :param sub_density: Density of sensor substrate in g/cm^3. [Default: Quartz (2.648)]\n",
    "    :param sub_shear: Shear modulus of sensor substrate in g/( cm* s ). [Default: Quartz (2.947 e11) ] \n",
    "    \"\"\"\n",
    "    z = np.sqrt( sub_density* sub_shear/( film_density* film_shear ) )\n",
    "    coeff = freq_constant* sub_density/( np.pi* z* freq )\n",
    "    tan_arg = np.pi*( f0 - freq )/ f0\n",
    "    \n",
    "    m = coeff* np.arctan( z* np.tan( tan_arg ) )\n",
    "    return m\n",
    "    "
   ]
  },
  {
   "cell_type": "code",
   "execution_count": 27,
   "metadata": {},
   "outputs": [],
   "source": [
    "def sauerbrey_mass_change( df, f0 = 5e6, density = 2.648, shear = 2.947e11  ):\n",
    "    \"\"\"\n",
    "    Creates a DataFrame of mass changes calculated with the Sauerbrey equation.\n",
    "    \n",
    "    :param df: DataFrame containing frequencies in Hertz.\n",
    "    :param f0: The undamental freqeuncy of the sensor. [Default: 5 MHz]\n",
    "    :param density: Density of sensor substrate in g/cm^3. [Default: Quartz (2.648)]\n",
    "    :param shear: Shear modulus of sensor substrate in g/( cm* s ). [Default: Quartz (2.947 e11) ]  \n",
    "    :returns: DataFrame of mass changes in grams.\n",
    "    \"\"\"\n",
    "    return df.apply( lambda x: sauerbrey( x, f0, density, shear ) )\n",
    "    \n",
    "    \n",
    "def z_match_mass_change(\n",
    "    df,\n",
    "    f0,  \n",
    "    film_density, \n",
    "    film_shear,\n",
    "    freq_constant = 1.668e13,\n",
    "    sub_density = 2.648,\n",
    "    sub_shear = 2.974e11\n",
    "):\n",
    "    \"\"\"\n",
    "    The Z-match equation.\n",
    "    Used when relative frequency change is larger than 5%.\n",
    "    \n",
    "    :param freq: Frequency of the loaded sensor in Hertz.\n",
    "    :param f0: Frequency of the unloaded sensor in hertz.\n",
    "    :param film_density: Density of the film in g/cm^3.\n",
    "    :param film_shear: Shear modulus of the film in g/( cm* s ).\n",
    "    :param freq_constant: Frequency constant of the sensor in Hz* Angstrom. [Default: Quartz (1.66 e13)]\n",
    "    :param sub_density: Density of sensor substrate in g/cm^3. [Default: Quartz (2.648)]\n",
    "    :param sub_shear: Shear modulus of sensor substrate in g/( cm* s ). [Default: Quartz (2.947 e11) ] \n",
    "    \"\"\"\n",
    "    return df.apply( lambda x:\n",
    "        z_match( \n",
    "            x, \n",
    "            f0, \n",
    "            film_density, \n",
    "            film_shear,\n",
    "            freq_constant = freq_constant,\n",
    "            sub_density = sub_density,\n",
    "            sub_shear = sub_shear\n",
    "        )\n",
    "    )"
   ]
  },
  {
   "cell_type": "markdown",
   "metadata": {},
   "source": [
    "# Work"
   ]
  },
  {
   "cell_type": "code",
   "execution_count": null,
   "metadata": {},
   "outputs": [],
   "source": []
  }
 ],
 "metadata": {
  "kernelspec": {
   "display_name": "Python 3",
   "language": "python",
   "name": "python3"
  },
  "language_info": {
   "codemirror_mode": {
    "name": "ipython",
    "version": 3
   },
   "file_extension": ".py",
   "mimetype": "text/x-python",
   "name": "python",
   "nbconvert_exporter": "python",
   "pygments_lexer": "ipython3",
   "version": "3.6.5"
  }
 },
 "nbformat": 4,
 "nbformat_minor": 2
}
