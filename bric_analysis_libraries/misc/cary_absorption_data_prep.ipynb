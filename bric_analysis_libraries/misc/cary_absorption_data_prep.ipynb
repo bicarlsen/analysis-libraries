{
 "cells": [
  {
   "cell_type": "markdown",
   "metadata": {},
   "source": [
    "# Cary UV-Vis Absorption Data Prep"
   ]
  },
  {
   "cell_type": "code",
   "execution_count": 1,
   "metadata": {},
   "outputs": [],
   "source": [
    "import os\n",
    "import io\n",
    "import sys\n",
    "import re\n",
    "import glob\n",
    "import math\n",
    "import logging\n",
    "\n",
    "import numpy as np\n",
    "import pandas as pd\n",
    "\n",
    "from bric_analysis_libraries import standard_functions as std"
   ]
  },
  {
   "cell_type": "markdown",
   "metadata": {},
   "source": [
    "## Data Prep"
   ]
  },
  {
   "cell_type": "code",
   "execution_count": null,
   "metadata": {},
   "outputs": [],
   "source": [
    "def import_datum( path, **kwargs ):\n",
    "    \"\"\"\n",
    "    Imports a Cary UV Vis Absorption data file into a Pandas DataFrame.\n",
    "    \n",
    "    :param path: Path to the file.\n",
    "    :returns: Pandas DataFrame.\n",
    "    \"\"\"\n",
    "    data_end = None\n",
    "    fields   = None\n",
    "    metrics  = None\n",
    "    with open( path ) as f:\n",
    "        for ( index, line ) in enumerate( f ):\n",
    "            # search for end of data\n",
    "            # occurs at first blank line\n",
    "            \n",
    "            # every line ends with trailing comma\n",
    "            if index is 0:\n",
    "                fields = line.split( ',' )[ :-1 ]\n",
    "            \n",
    "            elif index is 1:\n",
    "                # get headers\n",
    "                metrics = line.split( ',' )[ :-1 ]\n",
    "            \n",
    "            elif line is '\\n':\n",
    "                # no data in line\n",
    "                data_end = index\n",
    "                break\n",
    "            \n",
    "    # parse metrics for sample width\n",
    "    # new samples begin with wavelength\n",
    "    sample_indices = []\n",
    "    for index, metric in enumerate( metrics ):\n",
    "        if metric == 'Wavelength (nm)':\n",
    "            sample_indices.append( index )\n",
    "    \n",
    "    # import samples individually\n",
    "    df = []\n",
    "    for ( i, sample_index ) in enumerate( sample_indices ):\n",
    "        # get sample columns\n",
    "        next_sample_index = ( # get next sample index, or end if last sample\n",
    "            sample_indices[ i + 1 ]\n",
    "            if ( i + 1 ) < len( sample_indices ) else\n",
    "            len( metrics ) # final sample\n",
    "        )\n",
    "        use_cols = range( sample_index, next_sample_index )\n",
    "        \n",
    "        # get names of fields\n",
    "        # ignore first as it is wavelength\n",
    "        # will be set to index\n",
    "        names = map( \n",
    "            str.lower,\n",
    "            metrics[ sample_index + 1 : next_sample_index ]\n",
    "        )\n",
    "        \n",
    "        \n",
    "        tdf = pd.read_csv( \n",
    "            path,\n",
    "            header = None,\n",
    "            skiprows = 2,\n",
    "            nrows = data_end - 2, # account for ignored headers \n",
    "            usecols = use_cols,\n",
    "            index_col = 0, # wavelength as index\n",
    "            names = [ 'wavelength', *names ],\n",
    "            **kwargs \n",
    "        ).dropna()\n",
    "        \n",
    "        # add sample name to header\n",
    "        tdf = std.insert_index_levels( tdf, fields[ sample_index ] )\n",
    "        df.append( tdf )\n",
    "    \n",
    "    std.common_reindex( df )\n",
    "    df = pd.concat( df, axis = 1 )\n",
    "    return df"
   ]
  },
  {
   "cell_type": "code",
   "execution_count": null,
   "metadata": {},
   "outputs": [],
   "source": [
    "def import_data( folder, file_pattern = '*.csv' ):\n",
    "    \"\"\"\n",
    "    Imports data from a Cary UV-Vis experiment.\n",
    "    \n",
    "    :param folder: Folder path containing the data files.\n",
    "    :param file_pattern: File pattern of data files, in glob format. [Default: *.csv]\n",
    "    :returns: DataFrame containing imported data.\n",
    "    \"\"\"\n",
    "    return std.import_data( import_datum, folder, file_pattern = file_pattern )"
   ]
  }
 ],
 "metadata": {
  "kernelspec": {
   "display_name": "Python 3",
   "language": "python",
   "name": "python3"
  },
  "language_info": {
   "codemirror_mode": {
    "name": "ipython",
    "version": 3
   },
   "file_extension": ".py",
   "mimetype": "text/x-python",
   "name": "python",
   "nbconvert_exporter": "python",
   "pygments_lexer": "ipython3",
   "version": "3.7.6"
  }
 },
 "nbformat": 4,
 "nbformat_minor": 4
}
