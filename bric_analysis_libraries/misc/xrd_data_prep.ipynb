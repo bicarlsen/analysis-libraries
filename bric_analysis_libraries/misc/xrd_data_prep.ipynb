{
 "cells": [
  {
   "cell_type": "markdown",
   "metadata": {},
   "source": [
    "# XRD Data Prep"
   ]
  },
  {
   "cell_type": "code",
   "execution_count": 1,
   "metadata": {},
   "outputs": [],
   "source": [
    "import os\n",
    "import io\n",
    "import sys\n",
    "import re\n",
    "import glob\n",
    "import math\n",
    "import logging\n",
    "\n",
    "import numpy as np\n",
    "import pandas as pd\n",
    "\n",
    "from bric_analysis_libraries import standard_functions as std"
   ]
  },
  {
   "cell_type": "code",
   "execution_count": 21,
   "metadata": {},
   "outputs": [],
   "source": [
    "def import_datum( file, reindex = True ):\n",
    "    \"\"\"\n",
    "    Imports a .csv file from XRD data.\n",
    "    \n",
    "    :param file: The file path to load.\n",
    "    :param reindex: Set time as DataFrame Index. [Default: True]\n",
    "    :returns: A Pandas DataFrame.\n",
    "    \"\"\"\n",
    "    # parse header\n",
    "    header_pattern = '\\[Scan points\\]'\n",
    "    header_position = None\n",
    "    with open( file ) as f:\n",
    "        for num, line in enumerate( f ):\n",
    "            if re.match( header_pattern, line ) is not None:\n",
    "                header_position = num + 2 # account for next line, and header line\n",
    "                break\n",
    "                \n",
    "    if header_position is None:\n",
    "        raise RuntimeError( 'Could not find header.' )\n",
    "    \n",
    "    df = pd.read_csv( file, skiprows = header_position, names = [ 'angle', 'intensity' ] )\n",
    "\n",
    "    if reindex:\n",
    "        df = df.set_index( 'angle' )\n",
    "    \n",
    "    return df\n",
    "\n",
    "\n",
    "def import_data( folder, file_pattern = '*.csv' ):\n",
    "    \"\"\"\n",
    "    Imports XRD data.\n",
    "    \n",
    "    :param folder: Folder path containing the data files.\n",
    "    :param file_pattern: File pattern of data files, in glob format. [Default: *.txt]\n",
    "    :returns: DataFrame containing imported data.\n",
    "    \"\"\"\n",
    "    return std.import_data( import_datum, folder, file_pattern = file_pattern )"
   ]
  },
  {
   "cell_type": "markdown",
   "metadata": {},
   "source": [
    "# Work"
   ]
  },
  {
   "cell_type": "code",
   "execution_count": null,
   "metadata": {},
   "outputs": [],
   "source": []
  }
 ],
 "metadata": {
  "kernelspec": {
   "display_name": "Python 3",
   "language": "python",
   "name": "python3"
  },
  "language_info": {
   "codemirror_mode": {
    "name": "ipython",
    "version": 3
   },
   "file_extension": ".py",
   "mimetype": "text/x-python",
   "name": "python",
   "nbconvert_exporter": "python",
   "pygments_lexer": "ipython3",
   "version": "3.6.5"
  }
 },
 "nbformat": 4,
 "nbformat_minor": 2
}
