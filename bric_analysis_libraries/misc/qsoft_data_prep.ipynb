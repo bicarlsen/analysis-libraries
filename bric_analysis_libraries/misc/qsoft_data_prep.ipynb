{
 "cells": [
  {
   "cell_type": "markdown",
   "metadata": {},
   "source": [
    "# QCM Data Prep"
   ]
  },
  {
   "cell_type": "markdown",
   "metadata": {},
   "source": [
    "## Imports"
   ]
  },
  {
   "cell_type": "code",
   "execution_count": 1,
   "metadata": {},
   "outputs": [],
   "source": [
    "import os\n",
    "import io\n",
    "import sys\n",
    "import re\n",
    "import glob\n",
    "import math\n",
    "import logging\n",
    "\n",
    "import numpy as np\n",
    "import pandas as pd\n",
    "\n",
    "from bric_analysis_libraries import standard_functions as std"
   ]
  },
  {
   "cell_type": "markdown",
   "metadata": {},
   "source": [
    "## Data Prep"
   ]
  },
  {
   "cell_type": "code",
   "execution_count": 10,
   "metadata": {},
   "outputs": [],
   "source": [
    "def import_datum( file, reindex = True, sep = ',' ):\n",
    "    \"\"\"\n",
    "    Imports a .txt file from QSense.\n",
    "    \n",
    "    :param file: The file path to load.\n",
    "    :param reindex: Set time as DataFrame Index. [Default: True]\n",
    "    :param sep: The data seperator. [Default: ',']\n",
    "    :returns: A Pandas DataFrame.\n",
    "    \"\"\"\n",
    "    # parse header\n",
    "    time_pattern = 'Time_(\\d+)'  # used to get channel\n",
    "    dissipation_pattern = 'D(\\d+)_(\\d+)'\n",
    "    frequency_pattern = 'f(\\d+)_(\\d+)'\n",
    "\n",
    "    with open( file ) as f:\n",
    "        header = f.readline().split( sep )\n",
    "        \n",
    "        time_matches = [ re.match( time_pattern,        head ) for head in header ]\n",
    "        diss_matches = [ re.match( dissipation_pattern, head ) for head in header ]\n",
    "        freq_matches = [ re.match( frequency_pattern,   head ) for head in header ]\n",
    "                \n",
    "        headers = [ 0 ]* len( header ) # df headers: ( channel, parameter, mode )\n",
    "        for i in range( len( header ) ):\n",
    "            time_match = time_matches[ i ]\n",
    "            diss_match = diss_matches[ i ]\n",
    "            freq_match = freq_matches[ i ]\n",
    "                \n",
    "            if time_match is not None:\n",
    "                headers[ i ] = ( time_match.group( 1 ), 'time', 0 )\n",
    "               \n",
    "            elif diss_match is not None:\n",
    "                headers[ i ] = ( diss_match.group( 2 ), 'dissipation', int( diss_match.group( 1 ) ) )\n",
    "                \n",
    "            elif freq_match is not None:\n",
    "                headers[ i ] = ( freq_match.group( 2 ), 'frequency', int( freq_match.group( 1 ) ) )\n",
    "        \n",
    "    df = pd.read_csv( file, skiprows = 0 )\n",
    "    df.columns = pd.MultiIndex.from_tuples( headers, names = [ 'channel', 'parameter', 'mode' ] )\n",
    "    \n",
    "    if reindex:\n",
    "        channels = []\n",
    "        \n",
    "        # split data by channel\n",
    "        for name, data in df.groupby( level = 'channel', axis = 1 ):\n",
    "            channel = name[ 0 ]\n",
    "            data = data.set_index( ( channel, 'time', 0 ) )\n",
    "            data.index.rename( 'time', inplace = True )\n",
    "            channels.append( data )\n",
    "            \n",
    "            channels = std.common_reindex( channels )\n",
    "            df = pd.concat( channels, axis = 1 )\n",
    "    \n",
    "    return df\n",
    "\n",
    "\n",
    "def import_data( folder, file_pattern = '*.txt' ):\n",
    "    \"\"\"\n",
    "    Imports QCM data from a QSense experiment.\n",
    "    \n",
    "    :param folder: Folder path containing the data files.\n",
    "    :param file_pattern: File pattern of data files, in glob format. [Default: *.txt]\n",
    "    :returns: DataFrame containing imported data.\n",
    "    \"\"\"\n",
    "    return std.import_data( import_datum, folder, file_pattern = file_pattern )"
   ]
  },
  {
   "cell_type": "markdown",
   "metadata": {},
   "source": [
    "# Work"
   ]
  },
  {
   "cell_type": "code",
   "execution_count": null,
   "metadata": {},
   "outputs": [],
   "source": []
  }
 ],
 "metadata": {
  "kernelspec": {
   "display_name": "Python 3",
   "language": "python",
   "name": "python3"
  },
  "language_info": {
   "codemirror_mode": {
    "name": "ipython",
    "version": 3
   },
   "file_extension": ".py",
   "mimetype": "text/x-python",
   "name": "python",
   "nbconvert_exporter": "python",
   "pygments_lexer": "ipython3",
   "version": "3.7.6"
  }
 },
 "nbformat": 4,
 "nbformat_minor": 2
}
