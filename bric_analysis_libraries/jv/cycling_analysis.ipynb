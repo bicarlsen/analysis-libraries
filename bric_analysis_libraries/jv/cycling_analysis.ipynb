{
 "cells": [
  {
   "cell_type": "markdown",
   "metadata": {},
   "source": [
    "# Cycling Analysis"
   ]
  },
  {
   "cell_type": "code",
   "execution_count": null,
   "metadata": {},
   "outputs": [],
   "source": [
    "import math\n",
    "\n",
    "import numpy  as np\n",
    "import pandas as pd\n",
    "import scipy  as sp\n",
    "from scipy.optimize import curve_fit\n",
    "\n",
    "from bric_analysis_libraries import standard_functions as std"
   ]
  },
  {
   "cell_type": "code",
   "execution_count": null,
   "metadata": {},
   "outputs": [],
   "source": [
    "def cycle_degradation( df ):\n",
    "    \"\"\"\n",
    "    Get the PCE difference with a cycle, from beginning to end.\n",
    "    \n",
    "    :param df: DataFrame.\n",
    "    :returns: DataFrame of PCE differences.\n",
    "    \"\"\"\n",
    "    pass\n",
    "\n",
    "\n",
    "def cycle_recovery( df ):\n",
    "    \"\"\"\n",
    "    Get the recovery between cycles.\n",
    "    \n",
    "    :param df: DataFrame.\n",
    "    :returns: DataFrame of PCE recoveries.\n",
    "    \"\"\"\n",
    "    pass"
   ]
  }
 ],
 "metadata": {
  "kernelspec": {
   "display_name": "Python 3",
   "language": "python",
   "name": "python3"
  },
  "language_info": {
   "codemirror_mode": {
    "name": "ipython",
    "version": 3
   },
   "file_extension": ".py",
   "mimetype": "text/x-python",
   "name": "python",
   "nbconvert_exporter": "python",
   "pygments_lexer": "ipython3",
   "version": "3.7.3"
  }
 },
 "nbformat": 4,
 "nbformat_minor": 2
}
