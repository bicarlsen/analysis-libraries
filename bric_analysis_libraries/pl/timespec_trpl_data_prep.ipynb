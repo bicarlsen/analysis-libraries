{
 "cells": [
  {
   "cell_type": "markdown",
   "metadata": {},
   "source": [
    "# TimeSpec TRPL Data Prep"
   ]
  },
  {
   "cell_type": "code",
   "execution_count": 4,
   "metadata": {},
   "outputs": [],
   "source": [
    "import pandas as pd\n",
    "\n",
    "from bric_analysis_libraries import standard_functions as std"
   ]
  },
  {
   "cell_type": "markdown",
   "metadata": {},
   "source": [
    "## Data Prep"
   ]
  },
  {
   "cell_type": "code",
   "execution_count": null,
   "metadata": {},
   "outputs": [],
   "source": [
    "def start_rate_from_file_name( file ):\n",
    "    start_search = 'start<>'\n",
    "    return std.metadata_from_file_name( start_search, file, True )\n",
    "\n",
    "\n",
    "def stop_rate_from_file_name( file ):\n",
    "    stop_search = 'stop<>'\n",
    "    return std.metadata_from_file_name( stop_search, file, True )\n",
    "\n",
    "\n",
    "def time_from_file_name( file ):\n",
    "    # TODO: Get time scale\n",
    "    time_search = '<>us'\n",
    "    return std.metadata_from_file_name( time_search, file, True )"
   ]
  },
  {
   "cell_type": "code",
   "execution_count": null,
   "metadata": {},
   "outputs": [],
   "source": [
    "def import_datum( path ):\n",
    "    \"\"\"\n",
    "    Import data from a LifeSpec II TRPL experiment.\n",
    "    \n",
    "    :param path: Path of file with data.\n",
    "    :returns: Pandas DataFrame.\n",
    "    \"\"\"\n",
    "    # find header data\n",
    "    x_label = None\n",
    "    y_label = None\n",
    "    header_end = None\n",
    "    with open( path ) as f:\n",
    "        for index, line in enumerate( f ):\n",
    "            fields = line.split( ',' )\n",
    "            \n",
    "            key = fields[ 0 ].lower()\n",
    "            if key == '\\n':\n",
    "                # end of header\n",
    "                header_end = index\n",
    "                break\n",
    "            \n",
    "            value = fields[ 1 ].lower()\n",
    "            if key == 'xaxis':\n",
    "                x_label = value\n",
    "                \n",
    "            elif key == 'yaxis':\n",
    "                y_label = value\n",
    "                \n",
    "    # import data \n",
    "    df = pd.read_csv( \n",
    "        path,\n",
    "        usecols   = [ 0, 1 ],\n",
    "        skiprows  = header_end,\n",
    "        index_col = x_label,\n",
    "        names     = ( x_label, y_label )\n",
    "    )\n",
    "    \n",
    "    return df\n",
    "\n",
    "\n",
    "\n",
    "def import_data( \n",
    "    folder_path, \n",
    "    file_pattern = '*.csv', \n",
    "    metadata = None, \n",
    "    interpolate = 'linear', \n",
    "    fillna = 0 \n",
    "):\n",
    "    \"\"\"\n",
    "    Imports data from TimeSpec II TRPL experiments output files.\n",
    "    \n",
    "    :param folder_path: The file path containing the data files\n",
    "    :param file_pattern: A glob pattern to filter the imported files [Default: '*']\n",
    "    :param metadata: Metadata from the file name is turned into MultiIndex columns.\n",
    "       [Default: None]\n",
    "    :param interpolate: How to interpolate data for a common index [Default: linear]\n",
    "        Use None to prevent reindexing\n",
    "    :param fillna: Value to fill NaN values with [Default: 0]\n",
    "    :returns: A Pandas DataFrame with MultiIndexed columns\n",
    "    :raises: RuntimeError if no files are found\n",
    "    \"\"\"\n",
    "    \n",
    "    # get dataframes from files\n",
    "    df = []\n",
    "    files = std.get_files( folder_path, file_pattern )\n",
    "    if len( files ) == 0:\n",
    "        # no files found\n",
    "        raise RuntimeError( 'No files found matching {}'.format( os.path.join( folder_path, file_pattern ) ) )\n",
    "    \n",
    "    for file in files:\n",
    "        data = import_datum( file, metadata = metadata, cps = cps ) # run local import datum function\n",
    "        df.append( data )\n",
    "        \n",
    "    if interpolate is not None:\n",
    "        df = std.common_reindex( df, how = interpolate, fillna = fillna )\n",
    "        \n",
    "    df = pd.concat( df, axis = 1 )\n",
    "    return df\n"
   ]
  }
 ],
 "metadata": {
  "kernelspec": {
   "display_name": "Python 3",
   "language": "python",
   "name": "python3"
  },
  "language_info": {
   "codemirror_mode": {
    "name": "ipython",
    "version": 3
   },
   "file_extension": ".py",
   "mimetype": "text/x-python",
   "name": "python",
   "nbconvert_exporter": "python",
   "pygments_lexer": "ipython3",
   "version": "3.7.6"
  }
 },
 "nbformat": 4,
 "nbformat_minor": 4
}
