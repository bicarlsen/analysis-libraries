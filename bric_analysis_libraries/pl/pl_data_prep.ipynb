{
 "cells": [
  {
   "cell_type": "markdown",
   "metadata": {},
   "source": [
    "# Photoluminescence Analysis"
   ]
  },
  {
   "cell_type": "code",
   "execution_count": 1,
   "metadata": {},
   "outputs": [],
   "source": [
    "import pandas as pd\n",
    "import numpy as np\n",
    "import matplotlib as mpl\n",
    "import matplotlib.pyplot as plt\n",
    "\n",
    "import scipy as sp\n",
    "import scipy.constants as phys\n",
    "from scipy.optimize import curve_fit\n",
    "\n",
    "from bric_analysis_libraries import standard_functions as std"
   ]
  },
  {
   "cell_type": "code",
   "execution_count": null,
   "metadata": {},
   "outputs": [],
   "source": [
    "def wl_to_en( l ):\n",
    "    \"\"\"\n",
    "    Converts a wavelength, given in nm, to an energy in eV.\n",
    "    \n",
    "    :param l: The wavelength to convert, in nm.\n",
    "    :returns: The corresponding energy in eV.\n",
    "    \"\"\"\n",
    "    a = phys.physical_constants[ 'electron volt-joule relationship' ][ 0 ] # J\n",
    "    return phys.Planck* phys.c/( a* l* 1e-9 )\n",
    "\n",
    "\n",
    "def en_to_wl( e ):\n",
    "    \"\"\"\n",
    "    Converts an energy, given in eV, to a wavelength.\n",
    "    \n",
    "    :param e: The energy to convert, in eV.\n",
    "    :returns: The corresponding wavelength in nm.\n",
    "    \"\"\"\n",
    "    a = phys.physical_constants[ 'electron volt-joule relationship' ][ 0 ] # J\n",
    "    return 1e9* phys.Planck* phys.c/( a* e )"
   ]
  },
  {
   "cell_type": "code",
   "execution_count": 2,
   "metadata": {},
   "outputs": [],
   "source": [
    "def normalize( df ):\n",
    "    \"\"\"\n",
    "    Normalize all spectrum.\n",
    "    \n",
    "    :param df: The Pandas DataFrame to normalize.\n",
    "    :returns: The normalized DataFrame.\n",
    "    \"\"\"\n",
    "    return df.apply( lambda x: x/ x.max() )\n",
    "\n",
    "\n",
    "def index_to_energy( df, scale = False ):\n",
    "    \"\"\"\n",
    "    Converts a Pandas Index with wavelength index to energy index.\n",
    "    \n",
    "    :param df: The Pandas DataFrame, with wavelength indices in nanometers, to convert.\n",
    "    :param scale: Scale counts to maintain bin volume. [Default: False]\n",
    "    :returns: A new DataFrame indexed by energy in eV.\n",
    "    \"\"\"\n",
    "    edf = df.copy()\n",
    "    \n",
    "    en = wl_to_en( df.index.values )\n",
    "    edf.index = pd.Index( en )\n",
    "    \n",
    "    if scale:\n",
    "        ratio = np.diff( df.index ) / np.diff( edf.index ) # find ratio of widths\n",
    "        ratio /= ratio.max()\n",
    "        ratio = np.insert( ratio, 0, ratio[ 0 ] )\n",
    "        \n",
    "        edf = edf.multiply( ratio, axis = 0 ) # multiply counts by normalized ratio\n",
    "    \n",
    "    return edf\n",
    "    "
   ]
  }
 ],
 "metadata": {
  "kernelspec": {
   "display_name": "Python 3",
   "language": "python",
   "name": "python3"
  },
  "language_info": {
   "codemirror_mode": {
    "name": "ipython",
    "version": 3
   },
   "file_extension": ".py",
   "mimetype": "text/x-python",
   "name": "python",
   "nbconvert_exporter": "python",
   "pygments_lexer": "ipython3",
   "version": "3.6.5"
  }
 },
 "nbformat": 4,
 "nbformat_minor": 2
}
