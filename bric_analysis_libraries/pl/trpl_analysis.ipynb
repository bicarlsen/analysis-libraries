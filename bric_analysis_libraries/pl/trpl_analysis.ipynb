{
 "cells": [
  {
   "cell_type": "markdown",
   "metadata": {},
   "source": [
    "# TRPL Analysis\n",
    "For analyzing TRPL data"
   ]
  },
  {
   "cell_type": "code",
   "execution_count": null,
   "metadata": {},
   "outputs": [],
   "source": [
    "import pandas as pd\n",
    "import numpy as np\n",
    "\n",
    "from .. import standard_functions as std"
   ]
  },
  {
   "cell_type": "markdown",
   "metadata": {},
   "source": [
    "## Basic"
   ]
  },
  {
   "cell_type": "code",
   "execution_count": null,
   "metadata": {},
   "outputs": [],
   "source": [
    "def remove_background( df, grad_threshold = 1000 ):\n",
    "    \"\"\"\n",
    "    Subtracts background from TRPL signal based on the gradient jump in the initial signal.\n",
    "    \n",
    "    :param df: DataFrame of TRPL signals.\n",
    "    :param grad_threshold: Gradient threshold to cut background signal at. [Default: 1000]\n",
    "    :returns: DataFrame with background subtracted from signals.\n",
    "    \"\"\"\n",
    "    df = df.copy()\n",
    "    grad = df.apply( std.df_grad )\n",
    "    idx = grad[ grad > grad_threshold ]\n",
    "\n",
    "    for name, data in df.items():\n",
    "        tidx = idx[ name ].dropna()\n",
    "        tdf = data[ :tidx.index.min() ]\n",
    "        df[ name ] = df[ name ] - tdf.mean()\n",
    "        \n",
    "    return df\n",
    "\n",
    "\n",
    "def remove_init( df ):\n",
    "    \"\"\"\n",
    "    Removes the initial signal from a TRPL signal.\n",
    "    \n",
    "    :param df: DataFrame of TRPL signals.\n",
    "    :returns: DataFrame with initial backgroudn signal removed from the data. \n",
    "    \"\"\"\n",
    "    df = df.copy()\n",
    "    idx = df.idxmax()\n",
    "\n",
    "    for name, data in df.items():\n",
    "        df[ name ] = data[ idx[ name ]: ]\n",
    "        \n",
    "    return df"
   ]
  },
  {
   "cell_type": "markdown",
   "metadata": {},
   "source": [
    "## Advanced"
   ]
  },
  {
   "cell_type": "code",
   "execution_count": null,
   "metadata": {},
   "outputs": [],
   "source": [
    "def decay_from_rates( df ):\n",
    "    \"\"\"\n",
    "    Creates a TRPL decay spectrum from rates.\n",
    "    Assumes that the time step between bins is constant.\n",
    "    \n",
    "    :param df: Pandas DataFrame indexed by time with emission rates as values.\n",
    "    :returns: Pandas DataFrame with relative counts of a TRPL decay.\n",
    "    \"\"\"\n",
    "    intensities = pd.DataFrame( columns = df.columns )\n",
    "    for time, rate in df.iterrows():\n",
    "        reach = -df.loc[ :time ].sum()\n",
    "        reach = reach.apply( np.exp )\n",
    "        \n",
    "        prob = -rate\n",
    "        prob = 1 - prob.apply( np.exp )\n",
    "        intensities.loc[ time ] = reach* prob\n",
    "        \n",
    "    return intensities\n",
    "\n",
    "\n",
    "def rates( df, alpha = 1 ):\n",
    "    \"\"\"\n",
    "    Finds emission rates of a TRPL experiment.\n",
    "    Assumes the time step between counts is constant.\n",
    "    \n",
    "    :param df: Pandas DataFrame indexed by time, with counts as values.\n",
    "    :param alpha: Alpha rate of the experiment. [Default: 1]\n",
    "    :returns: Pandas DataFrame with emission rates for each time step.\n",
    "    \"\"\"     \n",
    "    if ( 0 > alpha ) or ( alpha > 1 ):\n",
    "        # ensure alpha between 0 and 1\n",
    "        raise ValueError( 'Invalid alpha rate, must be between 0 and 1.' )\n",
    "    \n",
    "    df = df.copy()\n",
    "    \n",
    "    # normalize counts\n",
    "    df *= alpha / df.sum()\n",
    "    \n",
    "    rates = pd.DataFrame( columns = df.columns )\n",
    "    \n",
    "    for time, row in df.iterrows():\n",
    "        # rate = -log( 1 - I* exp[ sum[ previous rates ] ] )\n",
    "        rate = rates.sum()\n",
    "        rate = rate.apply( np.exp )\n",
    "        rate *= row\n",
    "        rate = 1 - rate\n",
    "        rate = -rate.apply( np.log )\n",
    "\n",
    "        rates.loc[ time ] = rate\n",
    "    \n",
    "    return rates"
   ]
  },
  {
   "cell_type": "markdown",
   "metadata": {},
   "source": [
    "## Probabilistic Modeling"
   ]
  },
  {
   "cell_type": "code",
   "execution_count": null,
   "metadata": {},
   "outputs": [],
   "source": [
    "def signal_from_rates_monte_carlo( rates, trials = 1000, alpha = True ):\n",
    "    \"\"\"\n",
    "    Creates a TRPL signal from given rates. \n",
    "    Assumes each channel is of same time delta. \n",
    "    \n",
    "    :param rates: Array of rates.\n",
    "    :param trials: How many experiements to run.\n",
    "    :param alpha: Whether to return the alpha value. [Default: True]\n",
    "    :returns: NumPy array of counts by channel.\n",
    "    \"\"\"\n",
    "    if not isinstance( rates, np.ndarray ):\n",
    "        rates = np.array( rates )\n",
    "    \n",
    "    channel_counts = np.array( [ np.random.poisson( rate, trials ) for rate in rates ] )\n",
    "    channel_hits = ( channel_counts != 0 ) # whether a hit was registered\n",
    "    \n",
    "    # remove trials with no hits\n",
    "    valid = np.any( channel_hits, axis = 0 )\n",
    "    remove = np.argwhere( valid == False ).flatten()\n",
    "    channel_hits = np.delete( channel_hits, remove, axis = 1 )\n",
    "    \n",
    "    trial_stop = np.argmax( channel_hits, axis = 0 ) # first index at which a count was registered\n",
    "    channels, counts = np.unique( trial_stop, return_counts = True )\n",
    "    signal = np.zeros_like( rates )\n",
    "    for ch, count in zip( channels, counts ):\n",
    "        signal[ ch ] = count\n",
    "    \n",
    "    if not alpha:\n",
    "        # don't return alpha value\n",
    "        return signal\n",
    "    \n",
    "    else:\n",
    "        alpha = 1 - remove.shape[ 0 ]/ trials\n",
    "        return ( signal, alpha )\n",
    "        "
   ]
  }
 ],
 "metadata": {
  "kernelspec": {
   "display_name": "Python 3",
   "language": "python",
   "name": "python3"
  },
  "language_info": {
   "codemirror_mode": {
    "name": "ipython",
    "version": 3
   },
   "file_extension": ".py",
   "mimetype": "text/x-python",
   "name": "python",
   "nbconvert_exporter": "python",
   "pygments_lexer": "ipython3",
   "version": "3.8.8"
  }
 },
 "nbformat": 4,
 "nbformat_minor": 2
}
