{
 "cells": [
  {
   "cell_type": "markdown",
   "metadata": {},
   "source": [
    "# Function Matcher"
   ]
  },
  {
   "cell_type": "code",
   "execution_count": 1,
   "metadata": {},
   "outputs": [],
   "source": [
    "import math\n",
    "\n",
    "import numpy as np\n",
    "import pandas as pd"
   ]
  },
  {
   "cell_type": "code",
   "execution_count": 2,
   "metadata": {},
   "outputs": [],
   "source": [
    "def initCoeffs( data ):\n",
    "    coeffs = pd.DataFrame( columns = [ 'coeff' ], index = data.columns )\n",
    "    return coeffs.fillna( 1 )\n",
    "\n",
    "\n",
    "def fcnDotProduct( y1, y2, x ):\n",
    "    return np.trapz( y2* y1, x )\n",
    "\n",
    "\n",
    "def pairwiseDotProducts( df ):\n",
    "    cols = df.columns.values\n",
    "    x = df.index.values\n",
    "    \n",
    "    vals = [ [ fcnDotProduct( df[ k1 ].values, df[ k2 ].values, x ) for k2 in cols ] for k1 in cols ]\n",
    "    return pd.DataFrame(\n",
    "        data = vals,\n",
    "        index = cols,\n",
    "        columns = cols\n",
    "    )\n",
    "\n",
    "def getCoefficient( key, dps, coeffs, gkey = 'goal' ):\n",
    "    okeys = list( dps.index.values )\n",
    "    okeys.remove( key )\n",
    "    okeys.remove( gkey )\n",
    "    \n",
    "    others = 0\n",
    "    for okey in okeys:\n",
    "        others += coeffs.loc[ okey, 'coeff' ]* dps.loc[ key, okey ]\n",
    "    \n",
    "    val = ( dps.loc[ key, gkey ] - others )/ dps.loc[ key, key ]\n",
    "        \n",
    "    return max( val, 0 )\n",
    "\n",
    "\n",
    "def findCoefficients( data, error, iterations = 100, update = 1, gkey = 'goal' ):\n",
    "    # initialize\n",
    "    dps = pairwiseDotProducts( data )\n",
    "    coeffs = initCoeffs( data )\n",
    "    \n",
    "    # update coeffecients\n",
    "    e = math.inf\n",
    "    its = 0\n",
    "    while ( e > error ) & ( its < iterations ):\n",
    "        nc = coeffs.copy()\n",
    "        keys = list( data.columns.values )\n",
    "        keys.remove( gkey )\n",
    "        for key in keys:\n",
    "            nc.loc[ key, 'coeff' ] = getCoefficient( key, dps, coeffs, gkey )\n",
    "\n",
    "        # moderate coefficient change\n",
    "        nc[ 'old' ] = coeffs.coeff\n",
    "        nc[ 'dif' ] = nc.coeff - nc.old\n",
    "        nc[ 'coeff' ] = nc.old + update* nc.dif\n",
    "        \n",
    "        coeffs = nc[[ 'coeff' ]].copy()\n",
    "        \n",
    "        # update error\n",
    "        total = computeTotalFcn( data.drop( [ gkey ], axis = 1 ), coeffs )\n",
    "        total[ gkey ] = -data[ gkey ]\n",
    "        e = np.trapz( ( total.sum( axis = 1) )**2, total.index.values )\n",
    "        its += 1\n",
    "        \n",
    "    return ( coeffs, e )\n",
    "\n",
    "\n",
    "def computeTotalFcn( data, coeffs ):\n",
    "    # intialize dataframe\n",
    "    total = data.copy()\n",
    "    \n",
    "    for key in data.columns.values:\n",
    "        total.loc[ :, key ] *= coeffs.loc[ key, 'coeff' ]\n",
    "        \n",
    "    total[ 'total' ] = total.sum( axis = 1 )\n",
    "  \n",
    "    return total[[ 'total' ]].copy()"
   ]
  },
  {
   "cell_type": "code",
   "execution_count": null,
   "metadata": {},
   "outputs": [],
   "source": []
  }
 ],
 "metadata": {
  "kernelspec": {
   "display_name": "Python 3",
   "language": "python",
   "name": "python3"
  },
  "language_info": {
   "codemirror_mode": {
    "name": "ipython",
    "version": 3
   },
   "file_extension": ".py",
   "mimetype": "text/x-python",
   "name": "python",
   "nbconvert_exporter": "python",
   "pygments_lexer": "ipython3",
   "version": "3.7.3"
  }
 },
 "nbformat": 4,
 "nbformat_minor": 2
}
